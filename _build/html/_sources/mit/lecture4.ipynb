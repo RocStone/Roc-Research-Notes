{
 "cells": [
  {
   "attachments": {},
   "cell_type": "markdown",
   "metadata": {},
   "source": [
    "# L4: Eigenvectors and Eigenvalues"
   ]
  },
  {
   "attachments": {},
   "cell_type": "markdown",
   "metadata": {},
   "source": [
    "As I said before, Eigenvectors are thoes vectors that do not change direction when a linear transformation $A$ is applied to them. Formally, the eigenvector $x$ of $A$ is a vector such that $Ax = \\lambda x$ for some scalar $\\lambda$. If we allied the $A$ to $Av$ again, what will happen? The $x$ will be scaled again, but the direction maintains. Thus, $A^2x=\\lambda^2x$."
   ]
  },
  {
   "attachments": {},
   "cell_type": "markdown",
   "metadata": {},
   "source": [
    ":::{important}\n",
    "If $A$ is $n\\times n$ matrix with $n$ indepdent eigenvectors, then any vector $v$ can be considered as the linear combination of eigenvectors with some coefficients $c\\in\\mathbb{R}^n$, i.e., $v=Xc$. Thus, $$Av=AXc=\\Lambda Xc \\\\\\Longrightarrow A^kv=A^kXc=\\Lambda^k Xc$$\n",
    ":::"
   ]
  }
 ],
 "metadata": {
  "language_info": {
   "name": "python"
  },
  "orig_nbformat": 4
 },
 "nbformat": 4,
 "nbformat_minor": 2
}
